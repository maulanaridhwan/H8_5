{
 "cells": [
  {
   "cell_type": "markdown",
   "id": "ce386e8f",
   "metadata": {},
   "source": [
    "# TES"
   ]
  },
  {
   "cell_type": "markdown",
   "id": "363fce5d",
   "metadata": {},
   "source": [
    "## Syntax"
   ]
  },
  {
   "cell_type": "code",
   "execution_count": 4,
   "id": "c3dc1f69",
   "metadata": {},
   "outputs": [
    {
     "name": "stdout",
     "output_type": "stream",
     "text": [
      "re99\n",
      "re\n",
      "<class 'str'>\n",
      "True\n",
      "RE\n",
      "4\n",
      "aaaaa\n",
      "aa\n",
      "['bjir', 'bjink', 'aaaa', 'aaaaa']\n",
      "['bjir', 'bjink', 'aaaa', 2, 3, 'aaaaa']\n",
      "l0l\n",
      "{'anjay': 'hehe', 'bruh': 'l0l'}\n",
      "{'anjay': 'hehe'}\n",
      "dict_keys(['hoe'])\n"
     ]
    }
   ],
   "source": [
    "var = 're99'\n",
    "print(var)\n",
    "var3 = 're'\n",
    "print(var3)\n",
    "print(type(var))\n",
    "print(var3 in var)\n",
    "print(var3.upper())\n",
    "\n",
    "a = ['aa', 'aaa', 'aaaa', 'aaaaa']\n",
    "print(len(a))\n",
    "print(max(a))\n",
    "print(min(a))\n",
    "\n",
    "a[0]='bjir'\n",
    "a[-3]='bjink'\n",
    "print(a)\n",
    "a[-1:-3]=[2, 3]\n",
    "print(a)\n",
    "\n",
    "\n",
    "myDict = {\n",
    "    'anjay' : 'anjaz',\n",
    "    'bruh' : 'l0l'\n",
    "}\n",
    "print(myDict['bruh'])\n",
    "myDict['anjay'] = 'hehe'\n",
    "print(myDict)\n",
    "del myDict['bruh']\n",
    "print(myDict)\n",
    "\n",
    "Segs = {}\n",
    "Segs['hoe'] = 'jir'\n",
    "print(Segs.keys())"
   ]
  },
  {
   "cell_type": "markdown",
   "id": "59a15c85",
   "metadata": {},
   "source": [
    "## Library"
   ]
  },
  {
   "cell_type": "code",
   "execution_count": 9,
   "id": "e960be73",
   "metadata": {},
   "outputs": [
    {
     "data": {
      "text/html": [
       "<div>\n",
       "<style scoped>\n",
       "    .dataframe tbody tr th:only-of-type {\n",
       "        vertical-align: middle;\n",
       "    }\n",
       "\n",
       "    .dataframe tbody tr th {\n",
       "        vertical-align: top;\n",
       "    }\n",
       "\n",
       "    .dataframe thead th {\n",
       "        text-align: right;\n",
       "    }\n",
       "</style>\n",
       "<table border=\"1\" class=\"dataframe\">\n",
       "  <thead>\n",
       "    <tr style=\"text-align: right;\">\n",
       "      <th></th>\n",
       "      <th>a</th>\n",
       "      <th>b</th>\n",
       "      <th>c</th>\n",
       "    </tr>\n",
       "  </thead>\n",
       "  <tbody>\n",
       "    <tr>\n",
       "      <th>0</th>\n",
       "      <td>2</td>\n",
       "      <td>3</td>\n",
       "      <td>4</td>\n",
       "    </tr>\n",
       "    <tr>\n",
       "      <th>1</th>\n",
       "      <td>5</td>\n",
       "      <td>6</td>\n",
       "      <td>7</td>\n",
       "    </tr>\n",
       "  </tbody>\n",
       "</table>\n",
       "</div>"
      ],
      "text/plain": [
       "   a  b  c\n",
       "0  2  3  4\n",
       "1  5  6  7"
      ]
     },
     "execution_count": 9,
     "metadata": {},
     "output_type": "execute_result"
    }
   ],
   "source": [
    "import numpy as np\n",
    "import pandas as pd\n",
    "\n",
    "data = pd.DataFrame(data=np.array([[2,3,4], [5,6,7]], dtype=int), columns=['a', 'b', 'c'])\n",
    "data"
   ]
  },
  {
   "cell_type": "markdown",
   "id": "eb9c26f5",
   "metadata": {},
   "source": [
    "## Using Latex"
   ]
  },
  {
   "cell_type": "markdown",
   "id": "9144b742",
   "metadata": {},
   "source": [
    "$$c = \\sqrt{a^2 - b^2}$$"
   ]
  },
  {
   "cell_type": "code",
   "execution_count": 7,
   "id": "63973690",
   "metadata": {},
   "outputs": [
    {
     "data": {
      "text/latex": [
       "$\\displaystyle \\sqrt{a^2 - b^2}$"
      ],
      "text/plain": [
       "<IPython.core.display.Math object>"
      ]
     },
     "metadata": {},
     "output_type": "display_data"
    }
   ],
   "source": [
    "from IPython.display import display, Math, Latex\n",
    "display (Math(r'\\sqrt{a^2 - b^2}'))"
   ]
  },
  {
   "cell_type": "markdown",
   "id": "1a66c825",
   "metadata": {},
   "source": [
    "## Executing Shell Commands"
   ]
  },
  {
   "cell_type": "code",
   "execution_count": 16,
   "id": "94337188",
   "metadata": {},
   "outputs": [
    {
     "name": "stderr",
     "output_type": "stream",
     "text": [
      "'ls' is not recognized as an internal or external command,\n",
      "operable program or batch file.\n",
      "'pwd' is not recognized as an internal or external command,\n",
      "operable program or batch file.\n"
     ]
    },
    {
     "name": "stdout",
     "output_type": "stream",
     "text": [
      "'hal0'\n"
     ]
    }
   ],
   "source": [
    "!ls\n",
    "!pwd\n",
    "!echo 'hal0'"
   ]
  },
  {
   "cell_type": "code",
   "execution_count": 3,
   "id": "e2566e41",
   "metadata": {},
   "outputs": [
    {
     "name": "stdout",
     "output_type": "stream",
     "text": [
      "['-1.14-windows.xml', '.arduinoIDE', '.conda', '.condarc', '.continuum', '.gitconfig', '.ipynb_checkpoints', '.ipython', '.jupyter', '.lesshst', '.matplotlib', '.spyder-py3', '.vscode', '1 PRAKFIS W3.ipynb', '2 PRAKFIS W3.ipynb', '3 PRAKFIS W3.ipynb', '3D Objects', '4 PRAKFIS W3.ipynb', 'anaconda3', 'apa kek.ipynb', 'AppData', 'Application Data', 'Contacts', 'Cookies', 'CS2 Metode Numerik_Metode Cramer.ipynb', 'Documents', 'Downloads', 'Favorites', 'group project 1 metode numerik B.ipynb', 'H8 test.ipynb', 'IntelGraphicsProfiles', 'Jedi', 'Jupyter', 'KUBIK MEKI.ipynb', 'Links', 'Local Settings', 'mechvibes_custom', 'Metode numerik W13_Euler.ipynb', 'Metode Numerik_interpolasi.ipynb', 'Metode Numerik_Regresi.ipynb', 'Music', 'My Documents', 'NetHood', 'NTUSER.DAT', 'ntuser.dat.LOG1', 'ntuser.dat.LOG2', 'NTUSER.DAT{a2332f18-cdbf-11ec-8680-002248483d79}.TM.blf', 'NTUSER.DAT{a2332f18-cdbf-11ec-8680-002248483d79}.TMContainer00000000000000000001.regtrans-ms', 'NTUSER.DAT{a2332f18-cdbf-11ec-8680-002248483d79}.TMContainer00000000000000000002.regtrans-ms', 'ntuser.ini', 'OneDrive', 'paspoto 3x4.JPG', 'PR W3 Bisection Metode Numerik .ipynb', 'PrintHood', 'Recent', 'Saved Games', 'Searches', 'SendTo', 'Start Menu', 'Templates', 'UNIT 10 PRAKFIS W2.ipynb', 'UNIT 13 PRAK ALPRO W5.ipynb', 'UNIT 6 PRAKFIS W2.ipynb', 'UNIT 7 PRAKFIS W2.ipynb', 'UNIT 8 PRAKFIS W2.ipynb', 'UNIT 9 PRAKFIS W2.ipynb', 'Untitled Folder', 'Untitled.ipynb', 'untitled.py', 'Untitled1.ipynb', 'Untitled2.ipynb', 'Videos', 'W3Schools', 'W4 PRAKFIS']\n",
      "C:\\Users\\didan\n",
      "hal0\n"
     ]
    }
   ],
   "source": [
    "import os\n",
    "print(os.listdir())\n",
    "print(os.getcwd())\n",
    "!echo hal0"
   ]
  },
  {
   "cell_type": "markdown",
   "id": "245c84ec",
   "metadata": {},
   "source": [
    "## Pass Value to and from shell\n"
   ]
  },
  {
   "cell_type": "code",
   "execution_count": 17,
   "id": "83ab49ff",
   "metadata": {},
   "outputs": [
    {
     "name": "stdout",
     "output_type": "stream",
     "text": [
      "[\"'ls' is not recognized as an internal or external command,\", 'operable program or batch file.']\n"
     ]
    }
   ],
   "source": [
    "files = !ls\n",
    "print(files)"
   ]
  },
  {
   "cell_type": "markdown",
   "id": "2c9a3989",
   "metadata": {},
   "source": [
    "## Widget"
   ]
  },
  {
   "cell_type": "code",
   "execution_count": 1,
   "id": "b54adcc5",
   "metadata": {},
   "outputs": [],
   "source": [
    "from ipywidgets import interact\n",
    "import ipywidgets as widget"
   ]
  },
  {
   "cell_type": "markdown",
   "id": "535edbd6",
   "metadata": {},
   "source": [
    "### Basic Slider"
   ]
  },
  {
   "cell_type": "code",
   "execution_count": 2,
   "id": "813f3451",
   "metadata": {},
   "outputs": [
    {
     "data": {
      "application/vnd.jupyter.widget-view+json": {
       "model_id": "1f71b80f889546cdbd1b5d926d19a931",
       "version_major": 2,
       "version_minor": 0
      },
      "text/plain": [
       "interactive(children=(IntSlider(value=9, description='x', max=27, min=-9), Output()), _dom_classes=('widget-in…"
      ]
     },
     "metadata": {},
     "output_type": "display_data"
    },
    {
     "data": {
      "text/plain": [
       "<function __main__.f(x)>"
      ]
     },
     "execution_count": 2,
     "metadata": {},
     "output_type": "execute_result"
    }
   ],
   "source": [
    "def f(x) :\n",
    "    return x\n",
    "\n",
    "interact (f, x=9,) "
   ]
  },
  {
   "cell_type": "markdown",
   "id": "d72c698a",
   "metadata": {},
   "source": [
    "### Checkbox"
   ]
  },
  {
   "cell_type": "code",
   "execution_count": 4,
   "id": "2483c48a",
   "metadata": {},
   "outputs": [
    {
     "data": {
      "application/vnd.jupyter.widget-view+json": {
       "model_id": "1629e2686147433ea47bd540a6811725",
       "version_major": 2,
       "version_minor": 0
      },
      "text/plain": [
       "interactive(children=(Checkbox(value=True, description='x'), Output()), _dom_classes=('widget-interact',))"
      ]
     },
     "metadata": {},
     "output_type": "display_data"
    },
    {
     "data": {
      "text/plain": [
       "<function __main__.f(x)>"
      ]
     },
     "execution_count": 4,
     "metadata": {},
     "output_type": "execute_result"
    }
   ],
   "source": [
    "interact(f, x=True)"
   ]
  },
  {
   "cell_type": "markdown",
   "id": "f344c51d",
   "metadata": {},
   "source": [
    "### Textbox"
   ]
  },
  {
   "cell_type": "code",
   "execution_count": 5,
   "id": "c5743cf8",
   "metadata": {},
   "outputs": [
    {
     "data": {
      "application/vnd.jupyter.widget-view+json": {
       "model_id": "40fdf0b6b77148bca03f75e5b6447665",
       "version_major": 2,
       "version_minor": 0
      },
      "text/plain": [
       "interactive(children=(Text(value='ini teks string', description='x'), Output()), _dom_classes=('widget-interac…"
      ]
     },
     "metadata": {},
     "output_type": "display_data"
    },
    {
     "data": {
      "text/plain": [
       "<function __main__.f(x)>"
      ]
     },
     "execution_count": 5,
     "metadata": {},
     "output_type": "execute_result"
    }
   ],
   "source": [
    "interact(f, x='ini teks string')"
   ]
  },
  {
   "cell_type": "markdown",
   "id": "7bb7cb18",
   "metadata": {},
   "source": [
    "### Play button"
   ]
  },
  {
   "cell_type": "code",
   "execution_count": 12,
   "id": "8b432f33",
   "metadata": {},
   "outputs": [
    {
     "ename": "NameError",
     "evalue": "name 'widgets' is not defined",
     "output_type": "error",
     "traceback": [
      "\u001b[1;31m---------------------------------------------------------------------------\u001b[0m",
      "\u001b[1;31mNameError\u001b[0m                                 Traceback (most recent call last)",
      "Cell \u001b[1;32mIn[12], line 1\u001b[0m\n\u001b[1;32m----> 1\u001b[0m play \u001b[38;5;241m=\u001b[39m widgets\u001b[38;5;241m.\u001b[39mPlay(\n\u001b[0;32m      2\u001b[0m value\u001b[38;5;241m=\u001b[39m\u001b[38;5;241m40\u001b[39m,\n\u001b[0;32m      3\u001b[0m \u001b[38;5;28mmin\u001b[39m\u001b[38;5;241m=\u001b[39m\u001b[38;5;241m0\u001b[39m,\n\u001b[0;32m      4\u001b[0m \u001b[38;5;28mmax\u001b[39m\u001b[38;5;241m=\u001b[39m\u001b[38;5;241m200\u001b[39m,\n\u001b[0;32m      5\u001b[0m step\u001b[38;5;241m=\u001b[39m\u001b[38;5;241m2\u001b[39m,\n\u001b[0;32m      6\u001b[0m description\u001b[38;5;241m=\u001b[39m\u001b[38;5;124m\"\u001b[39m\u001b[38;5;124mtekan play\u001b[39m\u001b[38;5;124m\"\u001b[39m,\n\u001b[0;32m      7\u001b[0m disabled \u001b[38;5;241m=\u001b[39m \u001b[38;5;28;01mFalse\u001b[39;00m)\n\u001b[0;32m      8\u001b[0m slider \u001b[38;5;241m=\u001b[39m widgets\u001b[38;5;241m.\u001b[39mIntSlider()\n\u001b[0;32m      9\u001b[0m widgets\u001b[38;5;241m.\u001b[39mjslink((play, \u001b[38;5;124m'\u001b[39m\u001b[38;5;124mvalue\u001b[39m\u001b[38;5;124m'\u001b[39m), (slider, \u001b[38;5;124m'\u001b[39m\u001b[38;5;124mvalue\u001b[39m\u001b[38;5;124m'\u001b[39m))\n",
      "\u001b[1;31mNameError\u001b[0m: name 'widgets' is not defined"
     ]
    }
   ],
   "source": [
    "play = widgets.Play(\n",
    "value=40,\n",
    "min=0,\n",
    "max=200,\n",
    "step=2,\n",
    "description=\"tekan play\",\n",
    "disabled = False)\n",
    "slider = widgets.IntSlider()\n",
    "widgets.jslink((play, 'value'), (slider, 'value'))\n",
    "widgets.HBox([play, slider])"
   ]
  },
  {
   "cell_type": "code",
   "execution_count": 13,
   "id": "fc3f774c",
   "metadata": {},
   "outputs": [
    {
     "ename": "NameError",
     "evalue": "name 'widgets' is not defined",
     "output_type": "error",
     "traceback": [
      "\u001b[1;31m---------------------------------------------------------------------------\u001b[0m",
      "\u001b[1;31mNameError\u001b[0m                                 Traceback (most recent call last)",
      "Cell \u001b[1;32mIn[13], line 1\u001b[0m\n\u001b[1;32m----> 1\u001b[0m widgets\u001b[38;5;241m.\u001b[39mDatePicker(\n\u001b[0;32m      2\u001b[0m     description\u001b[38;5;241m=\u001b[39m\u001b[38;5;124m'\u001b[39m\u001b[38;5;124mpilih tgl\u001b[39m\u001b[38;5;124m'\u001b[39m,\n\u001b[0;32m      3\u001b[0m     disabled\u001b[38;5;241m=\u001b[39m\u001b[38;5;28;01mFalse\u001b[39;00m\n\u001b[0;32m      4\u001b[0m )\n",
      "\u001b[1;31mNameError\u001b[0m: name 'widgets' is not defined"
     ]
    }
   ],
   "source": [
    "widgets.DatePicker(\n",
    "    description='pilih tgl',\n",
    "    disabled=False\n",
    ")"
   ]
  },
  {
   "cell_type": "code",
   "execution_count": 15,
   "id": "cdf13fe0",
   "metadata": {},
   "outputs": [
    {
     "ename": "NameError",
     "evalue": "name 'widgets' is not defined",
     "output_type": "error",
     "traceback": [
      "\u001b[1;31m---------------------------------------------------------------------------\u001b[0m",
      "\u001b[1;31mNameError\u001b[0m                                 Traceback (most recent call last)",
      "Cell \u001b[1;32mIn[15], line 2\u001b[0m\n\u001b[0;32m      1\u001b[0m tab_contents \u001b[38;5;241m=\u001b[39m [\u001b[38;5;124m'\u001b[39m\u001b[38;5;124mK0\u001b[39m\u001b[38;5;124m'\u001b[39m, \u001b[38;5;124m'\u001b[39m\u001b[38;5;124mK2\u001b[39m\u001b[38;5;124m'\u001b[39m, \u001b[38;5;124m'\u001b[39m\u001b[38;5;124mK3\u001b[39m\u001b[38;5;124m'\u001b[39m, \u001b[38;5;124m'\u001b[39m\u001b[38;5;124mK4\u001b[39m\u001b[38;5;124m'\u001b[39m, \u001b[38;5;124m'\u001b[39m\u001b[38;5;124mK5\u001b[39m\u001b[38;5;124m'\u001b[39m]\n\u001b[1;32m----> 2\u001b[0m children \u001b[38;5;241m=\u001b[39m [widgets\u001b[38;5;241m.\u001b[39mText(description\u001b[38;5;241m=\u001b[39mname) \u001b[38;5;28;01mfor\u001b[39;00m name \u001b[38;5;129;01min\u001b[39;00m tab_contents]\n\u001b[0;32m      3\u001b[0m tab\u001b[38;5;241m=\u001b[39mwidgets\u001b[38;5;241m.\u001b[39mTab()\n\u001b[0;32m      4\u001b[0m tab\u001b[38;5;241m.\u001b[39mchildren\u001b[38;5;241m=\u001b[39mchildren\n",
      "Cell \u001b[1;32mIn[15], line 2\u001b[0m, in \u001b[0;36m<listcomp>\u001b[1;34m(.0)\u001b[0m\n\u001b[0;32m      1\u001b[0m tab_contents \u001b[38;5;241m=\u001b[39m [\u001b[38;5;124m'\u001b[39m\u001b[38;5;124mK0\u001b[39m\u001b[38;5;124m'\u001b[39m, \u001b[38;5;124m'\u001b[39m\u001b[38;5;124mK2\u001b[39m\u001b[38;5;124m'\u001b[39m, \u001b[38;5;124m'\u001b[39m\u001b[38;5;124mK3\u001b[39m\u001b[38;5;124m'\u001b[39m, \u001b[38;5;124m'\u001b[39m\u001b[38;5;124mK4\u001b[39m\u001b[38;5;124m'\u001b[39m, \u001b[38;5;124m'\u001b[39m\u001b[38;5;124mK5\u001b[39m\u001b[38;5;124m'\u001b[39m]\n\u001b[1;32m----> 2\u001b[0m children \u001b[38;5;241m=\u001b[39m [widgets\u001b[38;5;241m.\u001b[39mText(description\u001b[38;5;241m=\u001b[39mname) \u001b[38;5;28;01mfor\u001b[39;00m name \u001b[38;5;129;01min\u001b[39;00m tab_contents]\n\u001b[0;32m      3\u001b[0m tab\u001b[38;5;241m=\u001b[39mwidgets\u001b[38;5;241m.\u001b[39mTab()\n\u001b[0;32m      4\u001b[0m tab\u001b[38;5;241m.\u001b[39mchildren\u001b[38;5;241m=\u001b[39mchildren\n",
      "\u001b[1;31mNameError\u001b[0m: name 'widgets' is not defined"
     ]
    }
   ],
   "source": [
    "tab_contents = ['K0', 'K2', 'K3', 'K4', 'K5']\n",
    "children = [widgets.Text(description=name) for name in tab_contents]\n",
    "tab=widgets.Tab()\n",
    "tab.children=children\n",
    "for i in range(len(children)):\n",
    "    tab.set_title(i, str(i))\n",
    "tab"
   ]
  },
  {
   "cell_type": "code",
   "execution_count": null,
   "id": "1a0e8bbf",
   "metadata": {},
   "outputs": [],
   "source": []
  }
 ],
 "metadata": {
  "kernelspec": {
   "display_name": "Python 3 (ipykernel)",
   "language": "python",
   "name": "python3"
  },
  "language_info": {
   "codemirror_mode": {
    "name": "ipython",
    "version": 3
   },
   "file_extension": ".py",
   "mimetype": "text/x-python",
   "name": "python",
   "nbconvert_exporter": "python",
   "pygments_lexer": "ipython3",
   "version": "3.11.4"
  }
 },
 "nbformat": 4,
 "nbformat_minor": 5
}
