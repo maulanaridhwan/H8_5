{
 "cells": [
  {
   "cell_type": "markdown",
   "id": "61c93d34",
   "metadata": {},
   "source": [
    "# Condition"
   ]
  },
  {
   "cell_type": "markdown",
   "id": "cfea7f61",
   "metadata": {},
   "source": [
    "## If statement"
   ]
  },
  {
   "cell_type": "code",
   "execution_count": 1,
   "id": "582351cc",
   "metadata": {},
   "outputs": [
    {
     "name": "stdout",
     "output_type": "stream",
     "text": [
      "gada\n"
     ]
    }
   ],
   "source": [
    "if 'bruh' in ['0alah', 'nice']:\n",
    "    print('ada')\n",
    "    if 20>59:\n",
    "        print('mangea')\n",
    "print('gada')"
   ]
  },
  {
   "cell_type": "markdown",
   "id": "b25f8905",
   "metadata": {},
   "source": [
    "## Else and elif clauses"
   ]
  },
  {
   "cell_type": "code",
   "execution_count": 2,
   "id": "e176f6bd",
   "metadata": {},
   "outputs": [
    {
     "name": "stdout",
     "output_type": "stream",
     "text": [
      "beli buku\n",
      "gausa beli\n",
      "buku\n",
      "buy\n"
     ]
    }
   ],
   "source": [
    "hargaBuku = 20000\n",
    "hargaMajalah = 50000\n",
    "uang = 20000\n",
    "\n",
    "if uang >= hargaBuku:\n",
    "    print('beli buku')\n",
    "elif uang > hargaMajalah:\n",
    "    print('beli majalah')\n",
    "if uang > 70000:\n",
    "    print('gas beli 22nya')\n",
    "else:\n",
    "    print('gausa beli')\n",
    "    \n",
    "if uang == 20000: print('buku'); print('buy')\n",
    "    "
   ]
  },
  {
   "cell_type": "markdown",
   "id": "c40497f0",
   "metadata": {},
   "source": [
    "## Conditional expression"
   ]
  },
  {
   "cell_type": "code",
   "execution_count": 3,
   "id": "87e4012d",
   "metadata": {},
   "outputs": [
    {
     "name": "stdout",
     "output_type": "stream",
     "text": [
      "gas ke anu\n"
     ]
    }
   ],
   "source": [
    "raining = False\n",
    "print('gas ke', 'anu' if not raining else 'rumah')"
   ]
  },
  {
   "cell_type": "code",
   "execution_count": 4,
   "id": "fd9da8ab",
   "metadata": {},
   "outputs": [
    {
     "data": {
      "text/plain": [
       "'teen'"
      ]
     },
     "execution_count": 4,
     "metadata": {},
     "output_type": "execute_result"
    }
   ],
   "source": [
    "age = 4\n",
    "s = 'teen' if age <22 or age > 15 else 'adult'\n",
    "s"
   ]
  },
  {
   "cell_type": "code",
   "execution_count": 5,
   "id": "f8450aa9",
   "metadata": {},
   "outputs": [
    {
     "data": {
      "text/plain": [
       "'ya'"
      ]
     },
     "execution_count": 5,
     "metadata": {},
     "output_type": "execute_result"
    }
   ],
   "source": [
    "'ya' if ('anjay' in ['anjay', 'abang']) else \"gd\""
   ]
  },
  {
   "cell_type": "code",
   "execution_count": 6,
   "id": "4ac2653e",
   "metadata": {},
   "outputs": [
    {
     "data": {
      "text/plain": [
       "555"
      ]
     },
     "execution_count": 6,
     "metadata": {},
     "output_type": "execute_result"
    }
   ],
   "source": [
    "a = 555\n",
    "b = 5\n",
    "m = a if a>b else b\n",
    "m"
   ]
  },
  {
   "cell_type": "code",
   "execution_count": 7,
   "id": "fb571ffa",
   "metadata": {},
   "outputs": [
    {
     "name": "stdout",
     "output_type": "stream",
     "text": [
      "a\n"
     ]
    }
   ],
   "source": [
    "if True:\n",
    "    pass #skip \n",
    "print('a')"
   ]
  },
  {
   "cell_type": "markdown",
   "id": "68d19f5f",
   "metadata": {},
   "source": [
    "## While Loop"
   ]
  },
  {
   "cell_type": "code",
   "execution_count": 8,
   "id": "d866ce89",
   "metadata": {},
   "outputs": [
    {
     "name": "stdout",
     "output_type": "stream",
     "text": [
      "4\n",
      "3\n",
      "2\n",
      "1\n",
      "0\n",
      "2\n",
      "3\n",
      "4\n",
      "5\n"
     ]
    }
   ],
   "source": [
    "n = 5\n",
    "while n > 0:\n",
    "    n -= 1\n",
    "    print(n)\n",
    "\n",
    "i = 2\n",
    "while i < 6:\n",
    "    print(i)\n",
    "    i +=1"
   ]
  },
  {
   "cell_type": "markdown",
   "id": "e22a9213",
   "metadata": {},
   "source": [
    "## Break n Continue statement"
   ]
  },
  {
   "cell_type": "code",
   "execution_count": 9,
   "id": "28c97023",
   "metadata": {},
   "outputs": [
    {
     "name": "stdout",
     "output_type": "stream",
     "text": [
      "4\n",
      "3\n",
      "ended\n",
      "4\n",
      "3\n",
      "1\n",
      "0\n",
      "end\n",
      "4\n",
      "3\n",
      "1\n",
      "0\n",
      "p\n"
     ]
    }
   ],
   "source": [
    "n = 5\n",
    "while n > 0:\n",
    "    n -= 1\n",
    "    if n == 2:\n",
    "        break\n",
    "    print(n)\n",
    "print('ended')\n",
    "\n",
    "n = 5\n",
    "while n > 0:\n",
    "    n -= 1\n",
    "    if n==2:\n",
    "        continue\n",
    "    print(n)\n",
    "print('end')\n",
    "\n",
    "#Else clause\n",
    "n = 5\n",
    "while n > 0:\n",
    "    n -= 1\n",
    "    if n == 2:\n",
    "        continue #kl break elsenya skip\n",
    "    print(n)\n",
    "else: print('p')"
   ]
  },
  {
   "cell_type": "markdown",
   "id": "ccb9bfdf",
   "metadata": {},
   "source": [
    "## Nested while loop"
   ]
  },
  {
   "cell_type": "code",
   "execution_count": 10,
   "id": "a70f850b",
   "metadata": {},
   "outputs": [
    {
     "ename": "TypeError",
     "evalue": "'<' not supported between instances of 'str' and 'int'",
     "output_type": "error",
     "traceback": [
      "\u001b[1;31m---------------------------------------------------------------------------\u001b[0m",
      "\u001b[1;31mTypeError\u001b[0m                                 Traceback (most recent call last)",
      "Cell \u001b[1;32mIn[10], line 4\u001b[0m\n\u001b[0;32m      1\u001b[0m age \u001b[38;5;241m=\u001b[39m \u001b[38;5;124m'\u001b[39m\u001b[38;5;124mumur\u001b[39m\u001b[38;5;124m'\u001b[39m\n\u001b[0;32m      2\u001b[0m gender \u001b[38;5;241m=\u001b[39m \u001b[38;5;124m'\u001b[39m\u001b[38;5;124mgender\u001b[39m\u001b[38;5;124m'\u001b[39m\n\u001b[1;32m----> 4\u001b[0m \u001b[38;5;28;01mif\u001b[39;00m age \u001b[38;5;241m<\u001b[39m \u001b[38;5;241m18\u001b[39m:\n\u001b[0;32m      5\u001b[0m     \u001b[38;5;28;01mif\u001b[39;00m gender \u001b[38;5;241m==\u001b[39m \u001b[38;5;124m'\u001b[39m\u001b[38;5;124mM\u001b[39m\u001b[38;5;124m'\u001b[39m:\n\u001b[0;32m      6\u001b[0m         \u001b[38;5;28mprint\u001b[39m(\u001b[38;5;124m'\u001b[39m\u001b[38;5;124mbcil\u001b[39m\u001b[38;5;124m'\u001b[39m)\n",
      "\u001b[1;31mTypeError\u001b[0m: '<' not supported between instances of 'str' and 'int'"
     ]
    }
   ],
   "source": [
    "age = 'umur'\n",
    "gender = 'gender'\n",
    "\n",
    "if age < 18:\n",
    "    if gender == 'M':\n",
    "        print('bcil')\n",
    "    else:\n",
    "        print('b0cil cwe')\n",
    "elif age >=18 and age < 65:\n",
    "    if gender == 'M':\n",
    "        print('bapak2')\n",
    "    elif gender == 'F':\n",
    "        print('ibu2')\n",
    "    else:\n",
    "        print('non biner')\n",
    "else:\n",
    "    print('tua')\n",
    "    \n",
    "#bisa if while loop juga digabung2"
   ]
  },
  {
   "cell_type": "markdown",
   "id": "127954b9",
   "metadata": {},
   "source": [
    "# Definite Iteration"
   ]
  },
  {
   "cell_type": "markdown",
   "id": "cd97c536",
   "metadata": {},
   "source": [
    "### Numeric Range loop"
   ]
  },
  {
   "cell_type": "code",
   "execution_count": null,
   "id": "def1d650",
   "metadata": {},
   "outputs": [],
   "source": [
    "for i = 2 to 20"
   ]
  },
  {
   "cell_type": "markdown",
   "id": "b48c9324",
   "metadata": {},
   "source": [
    "### Three Expression loop"
   ]
  },
  {
   "cell_type": "raw",
   "id": "ba015ade",
   "metadata": {},
   "source": [
    "for (i = 2; i<= 20; i++)"
   ]
  },
  {
   "cell_type": "markdown",
   "id": "47856ccc",
   "metadata": {},
   "source": [
    "## The phyton for loop"
   ]
  },
  {
   "cell_type": "code",
   "execution_count": null,
   "id": "afa851fa",
   "metadata": {},
   "outputs": [],
   "source": [
    "a = ['aa', 'ss']\n",
    "for i in a:\n",
    "    print(i)"
   ]
  },
  {
   "cell_type": "markdown",
   "id": "c48377db",
   "metadata": {},
   "source": [
    "### Iterating Through a Dictionary"
   ]
  },
  {
   "cell_type": "code",
   "execution_count": null,
   "id": "6c8cd558",
   "metadata": {},
   "outputs": [],
   "source": [
    "b = {'aa':1 , 'ss':2}\n",
    "for k in b:\n",
    "    print(k)\n",
    "    print(b[k])\n",
    "\n",
    "for k in b.values():\n",
    "    print(k)\n",
    "    \n",
    "for k, v in b.items():\n",
    "    print(k, ':', v)"
   ]
  },
  {
   "cell_type": "markdown",
   "id": "a1f1a7d2",
   "metadata": {},
   "source": [
    "### The range() Function"
   ]
  },
  {
   "cell_type": "code",
   "execution_count": null,
   "id": "cf14c312",
   "metadata": {},
   "outputs": [],
   "source": [
    "x = range(5)\n",
    "for n in x:\n",
    "    print(n)"
   ]
  },
  {
   "cell_type": "markdown",
   "id": "c6168377",
   "metadata": {},
   "source": [
    "### Altering for Loop Behavior"
   ]
  },
  {
   "cell_type": "code",
   "execution_count": 11,
   "id": "36e0f9a7",
   "metadata": {},
   "outputs": [
    {
     "name": "stdout",
     "output_type": "stream",
     "text": [
      "aa\n",
      "anjay\n",
      "--------------------------\n",
      "aa\n",
      "pp\n",
      "anjay\n",
      "------------------------\n",
      "aa\n",
      "ss\n",
      "pp\n",
      "anjay\n"
     ]
    }
   ],
   "source": [
    "#The break and continue statement\n",
    "for i in ['aa', 'ss']:\n",
    "    if 'ss' in i:\n",
    "        break \n",
    "    print(i)\n",
    "print('anjay')\n",
    "print('--------------------------')\n",
    "for i in ['aa', 'ss', 'pp']:\n",
    "    if 'ss' in i:\n",
    "        continue #skipped the list\n",
    "    print(i)\n",
    "print('anjay')\n",
    "print('------------------------')\n",
    "\n",
    "#The else clause\n",
    "for i in ['aa', 'ss', 'pp']:\n",
    "    print(i)\n",
    "else: #berlaku jg kl di break, elsenya gaikutan\n",
    "    print('anjay')"
   ]
  },
  {
   "cell_type": "code",
   "execution_count": 13,
   "id": "e15f01d4",
   "metadata": {},
   "outputs": [
    {
     "name": "stdout",
     "output_type": "stream",
     "text": [
      "program ubah suhu\n",
      "ketik temperature yang ingin dikonversi, eg. 45F, 120C: 22c\n",
      "temperaturenya yaitu 72 derajat Fahrenheit\n",
      "coba lg ga bg? yay/naynay\n",
      "tengs\n"
     ]
    }
   ],
   "source": [
    "while True:\n",
    "    print('program ubah suhu')\n",
    "    temp = input('ketik temperature yang ingin dikonversi, eg. 45F, 120C: ')\n",
    "    if len(temp) > 1:\n",
    "        degree = int(temp[:-1]) #ambil nilai kecuali last one\n",
    "        i_convertion = temp[-1].upper() #ambil the last one\n",
    "    else:\n",
    "        print('masukin yg bener bg')\n",
    "        continue\n",
    "    50\n",
    "    if i_convertion == 'C':\n",
    "        result = int(round((9 * degree) / 5+32))\n",
    "        unit = 'Fahrenheit'\n",
    "    elif i_convertion == 'F':\n",
    "        result = int(round((degree - 32) * 5/9))\n",
    "        unit = 'celcius'\n",
    "    else:\n",
    "        print('masukkan input yg benar')\n",
    "        continue\n",
    "    print('temperaturenya yaitu', result, 'derajat', unit)\n",
    "    \n",
    "    conf = input('coba lg ga bg? yay/nay').lower()\n",
    "    if conf == 'yay':\n",
    "        pass\n",
    "    elif conf == 'nay':\n",
    "        print('tengs')\n",
    "        break\n",
    "    else:\n",
    "        print('hah, yay or nay?')"
   ]
  },
  {
   "cell_type": "code",
   "execution_count": null,
   "id": "92543792",
   "metadata": {},
   "outputs": [],
   "source": []
  }
 ],
 "metadata": {
  "kernelspec": {
   "display_name": "Python 3 (ipykernel)",
   "language": "python",
   "name": "python3"
  },
  "language_info": {
   "codemirror_mode": {
    "name": "ipython",
    "version": 3
   },
   "file_extension": ".py",
   "mimetype": "text/x-python",
   "name": "python",
   "nbconvert_exporter": "python",
   "pygments_lexer": "ipython3",
   "version": "3.11.4"
  }
 },
 "nbformat": 4,
 "nbformat_minor": 5
}
